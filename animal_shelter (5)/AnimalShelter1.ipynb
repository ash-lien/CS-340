{
 "cells": [
  {
   "cell_type": "code",
   "execution_count": null,
   "id": "62224bfe",
   "metadata": {},
   "outputs": [],
   "source": [
    "from animal_shelter import AnimalShelter\n",
    "from bson.objectid import ObjectId"
   ]
  },
  {
   "cell_type": "code",
   "execution_count": null,
   "id": "f9e87ec5",
   "metadata": {},
   "outputs": [],
   "source": [
    "animals = AnimalShelter(\"aacuser\", \"SNHU1234\")"
   ]
  },
  {
   "cell_type": "code",
   "execution_count": null,
   "id": "5c506641",
   "metadata": {},
   "outputs": [],
   "source": [
    "#Valid document create\n",
    "print(animals.create ({ \n",
    " 'age_upon_outcome': \"7 years\",\n",
    " 'animal_id': \"test\",\n",
    " 'animal_type': \"Dog\",\n",
    " 'breed': \"Shih Tzu\",\n",
    " 'color': \"Tan\",\n",
    " 'date_of_birth': \"2015-12-02\",\n",
    " 'datetime': \"2023-05-27 20:19:00\",\n",
    " 'monthyear': \"2023-05-27T20:19:00\",\n",
    " 'name': \"Bubby\",\n",
    " 'outcome_subtype': \"\",\n",
    " 'outcome_type': 'Adoption',\n",
    " 'sex_upon_outcome': \"Spayed Male\",\n",
    " 'location_lat': 50,\n",
    " 'location_long': 60,\n",
    " 'age_upon_outcome_in_weeks': 10}))"
   ]
  },
  {
   "cell_type": "code",
   "execution_count": 3,
   "id": "3e4a11f0",
   "metadata": {},
   "outputs": [
    {
     "ename": "NameError",
     "evalue": "name 'animals' is not defined",
     "output_type": "error",
     "traceback": [
      "\u001b[0;31m---------------------------------------------------------------------------\u001b[0m",
      "\u001b[0;31mNameError\u001b[0m                                 Traceback (most recent call last)",
      "Input \u001b[0;32mIn [3]\u001b[0m, in \u001b[0;36m<cell line: 2>\u001b[0;34m()\u001b[0m\n\u001b[1;32m      1\u001b[0m \u001b[38;5;66;03m#Invalid Document\u001b[39;00m\n\u001b[0;32m----> 2\u001b[0m \u001b[38;5;28mprint\u001b[39m(\u001b[43manimals\u001b[49m\u001b[38;5;241m.\u001b[39mcreate({\u001b[38;5;241m0\u001b[39m:\u001b[38;5;241m0\u001b[39m}))\n",
      "\u001b[0;31mNameError\u001b[0m: name 'animals' is not defined"
     ]
    }
   ],
   "source": [
    "#Invalid Document\n",
    "print(animals.create({0:0}))"
   ]
  },
  {
   "cell_type": "code",
   "execution_count": 1,
   "id": "f05c4b12",
   "metadata": {},
   "outputs": [
    {
     "ename": "NameError",
     "evalue": "name 'animals' is not defined",
     "output_type": "error",
     "traceback": [
      "\u001b[0;31m---------------------------------------------------------------------------\u001b[0m",
      "\u001b[0;31mNameError\u001b[0m                                 Traceback (most recent call last)",
      "Input \u001b[0;32mIn [1]\u001b[0m, in \u001b[0;36m<cell line: 2>\u001b[0;34m()\u001b[0m\n\u001b[1;32m      1\u001b[0m \u001b[38;5;66;03m#Valid query\u001b[39;00m\n\u001b[0;32m----> 2\u001b[0m query \u001b[38;5;241m=\u001b[39m \u001b[43manimals\u001b[49m\u001b[38;5;241m.\u001b[39mread({\u001b[38;5;124m\"\u001b[39m\u001b[38;5;124mname\u001b[39m\u001b[38;5;124m\"\u001b[39m: \u001b[38;5;124m\"\u001b[39m\u001b[38;5;124mBubby\u001b[39m\u001b[38;5;124m\"\u001b[39m})\n\u001b[1;32m      3\u001b[0m \u001b[38;5;28;01mfor\u001b[39;00m animal \u001b[38;5;129;01min\u001b[39;00m query:\n\u001b[1;32m      4\u001b[0m     \u001b[38;5;28mprint\u001b[39m(animal)\n",
      "\u001b[0;31mNameError\u001b[0m: name 'animals' is not defined"
     ]
    }
   ],
   "source": [
    "#Valid query\n",
    "query = animals.read({\"name\": \"Bubby\"})\n",
    "for animal in query:\n",
    "    print(animal)"
   ]
  },
  {
   "cell_type": "code",
   "execution_count": 2,
   "id": "8beeef83",
   "metadata": {},
   "outputs": [
    {
     "ename": "NameError",
     "evalue": "name 'animals' is not defined",
     "output_type": "error",
     "traceback": [
      "\u001b[0;31m---------------------------------------------------------------------------\u001b[0m",
      "\u001b[0;31mNameError\u001b[0m                                 Traceback (most recent call last)",
      "Input \u001b[0;32mIn [2]\u001b[0m, in \u001b[0;36m<cell line: 2>\u001b[0;34m()\u001b[0m\n\u001b[1;32m      1\u001b[0m \u001b[38;5;66;03m#invalid query throws exception\u001b[39;00m\n\u001b[0;32m----> 2\u001b[0m \u001b[38;5;28mprint\u001b[39m(\u001b[38;5;28mlist\u001b[39m(\u001b[43manimals\u001b[49m\u001b[38;5;241m.\u001b[39mread({\u001b[38;5;241m0\u001b[39m:\u001b[38;5;241m0\u001b[39m})))\n",
      "\u001b[0;31mNameError\u001b[0m: name 'animals' is not defined"
     ]
    }
   ],
   "source": [
    "#invalid query throws exception\n",
    "print(list(animals.read({0:0})))"
   ]
  },
  {
   "cell_type": "code",
   "execution_count": null,
   "id": "89dcf940",
   "metadata": {},
   "outputs": [],
   "source": [
    "#valid update\n",
    "updateAnimal = animals.update({\"name\" : \"Bubby\"}, {\"outcome_type\" : \"Adopted\"})\n",
    "print(updateAnimal)"
   ]
  },
  {
   "cell_type": "code",
   "execution_count": null,
   "id": "a4d60875",
   "metadata": {},
   "outputs": [],
   "source": [
    "#invalid update\n",
    "print(animals.update({0:0}))"
   ]
  },
  {
   "cell_type": "code",
   "execution_count": null,
   "id": "588e0945",
   "metadata": {},
   "outputs": [],
   "source": [
    "#valid deletion\n",
    "deleteAnimal = animals.delete({\"name\" : \"Bubby\"})\n",
    "print(deleteAnimal)"
   ]
  },
  {
   "cell_type": "code",
   "execution_count": null,
   "id": "e377fee7",
   "metadata": {},
   "outputs": [],
   "source": [
    "#invalid deletion\n",
    "print(animals.delete({0:0}))"
   ]
  }
 ],
 "metadata": {
  "kernelspec": {
   "display_name": "Python 3 (ipykernel)",
   "language": "python",
   "name": "python3"
  },
  "language_info": {
   "codemirror_mode": {
    "name": "ipython",
    "version": 3
   },
   "file_extension": ".py",
   "mimetype": "text/x-python",
   "name": "python",
   "nbconvert_exporter": "python",
   "pygments_lexer": "ipython3",
   "version": "3.9.12"
  }
 },
 "nbformat": 4,
 "nbformat_minor": 5
}
